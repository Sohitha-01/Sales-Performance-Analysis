{
  "cells": [
    {
      "cell_type": "markdown",
      "source": [
        "Import Libraries"
      ],
      "metadata": {
        "id": "r01KYgsn_ylQ"
      }
    },
    {
      "cell_type": "code",
      "source": [
        "import pandas as pd\n",
        "import numpy as np\n",
        "from statsmodels.stats.proportion import proportions_ztest\n",
        "from scipy import stats"
      ],
      "metadata": {
        "id": "gMqBDkpV_30b"
      },
      "execution_count": 1,
      "outputs": []
    },
    {
      "cell_type": "markdown",
      "source": [
        "Load Data"
      ],
      "metadata": {
        "id": "1PyUN6bn_5D7"
      }
    },
    {
      "cell_type": "code",
      "source": [
        "orders = pd.read_csv('/content/List of Orders.csv')\n",
        "details = pd.read_csv('/content/Order Details.csv')"
      ],
      "metadata": {
        "id": "y-rPbJDEADOM"
      },
      "execution_count": 2,
      "outputs": []
    },
    {
      "cell_type": "markdown",
      "source": [
        "Merge and prepare data"
      ],
      "metadata": {
        "id": "Hj0BI31FAMDA"
      }
    },
    {
      "cell_type": "code",
      "source": [
        "merged = orders.merge(details, on=\"Order ID\", how=\"left\")\n",
        "merged[\"converted\"] = (merged[\"Amount\"] > 0).astype(int)\n",
        "rev = merged.groupby(\"Order ID\")[\"Amount\"].sum().reset_index()\n",
        "rev.rename(columns={\"Amount\": \"revenue\"}, inplace=True)\n",
        "ab_data = orders[[\"Order ID\", \"Customer Name\"]].merge(rev, on=\"Order ID\", how=\"left\")\n",
        "ab_data[\"converted\"] = (ab_data[\"revenue\"] > 0).astype(int)"
      ],
      "metadata": {
        "id": "l3LZRCH-AJc5"
      },
      "execution_count": 3,
      "outputs": []
    },
    {
      "cell_type": "markdown",
      "source": [
        "Random A/B assignment (since real variant not present)"
      ],
      "metadata": {
        "id": "_1Voj5sfAQvD"
      }
    },
    {
      "cell_type": "code",
      "source": [
        "np.random.seed(42)\n",
        "ab_data[\"group\"] = np.where(np.random.rand(len(ab_data)) < 0.5, \"A\", \"B\")"
      ],
      "metadata": {
        "id": "sdvYJhFtARaB"
      },
      "execution_count": 4,
      "outputs": []
    },
    {
      "cell_type": "markdown",
      "source": [
        "Conversion Analysis"
      ],
      "metadata": {
        "id": "yzOVhc30AWXQ"
      }
    },
    {
      "cell_type": "code",
      "source": [
        "nA = (ab_data.group==\"A\").sum()\n",
        "nB = (ab_data.group==\"B\").sum()\n",
        "xA = ab_data.loc[ab_data.group==\"A\",\"converted\"].sum()\n",
        "xB = ab_data.loc[ab_data.group==\"B\",\"converted\"].sum()\n",
        "pA = xA/nA\n",
        "pB = xB/nB"
      ],
      "metadata": {
        "id": "uWUwE3nLAW7b"
      },
      "execution_count": 5,
      "outputs": []
    },
    {
      "cell_type": "code",
      "source": [
        "stat, pval = proportions_ztest([xB, xA], [nB, nA], alternative=\"two-sided\")\n",
        "lift = pB/pA - 1 if pA>0 else np.nan"
      ],
      "metadata": {
        "id": "M4c1uOG_AdmT",
        "outputId": "7e5502f0-5c6d-40aa-cc6f-cdb3c6d7d0d8",
        "colab": {
          "base_uri": "https://localhost:8080/"
        }
      },
      "execution_count": 6,
      "outputs": [
        {
          "output_type": "stream",
          "name": "stderr",
          "text": [
            "/usr/local/lib/python3.12/dist-packages/statsmodels/stats/weightstats.py:792: RuntimeWarning: invalid value encountered in scalar divide\n",
            "  zstat = value / std\n"
          ]
        }
      ]
    },
    {
      "cell_type": "code",
      "source": [
        "print(\"=== Conversion Analysis ===\")\n",
        "print(f\"Group A: n={nA}, conversions={xA}, rate={pA:.4f}\")\n",
        "print(f\"Group B: n={nB}, conversions={xB}, rate={pB:.4f}\")\n",
        "print(f\"Relative lift: {lift:.2%}\")\n",
        "print(f\"z-stat={stat:.3f}, p-value={pval:.3f}\")"
      ],
      "metadata": {
        "id": "bp-fOYJkAhw-",
        "outputId": "ea48248d-ebdb-487e-9031-7d14d4491597",
        "colab": {
          "base_uri": "https://localhost:8080/"
        }
      },
      "execution_count": 7,
      "outputs": [
        {
          "output_type": "stream",
          "name": "stdout",
          "text": [
            "=== Conversion Analysis ===\n",
            "Group A: n=241, conversions=241, rate=1.0000\n",
            "Group B: n=259, conversions=259, rate=1.0000\n",
            "Relative lift: 0.00%\n",
            "z-stat=nan, p-value=nan\n"
          ]
        }
      ]
    },
    {
      "cell_type": "markdown",
      "source": [
        "Revenue Analysis"
      ],
      "metadata": {
        "id": "3tDv2bZfAraq"
      }
    },
    {
      "cell_type": "code",
      "source": [
        "revA = ab_data.loc[ab_data.group==\"A\",\"revenue\"]\n",
        "revB = ab_data.loc[ab_data.group==\"B\",\"revenue\"]\n",
        "t_stat, p_rev = stats.ttest_ind(revA, revB, equal_var=False)\n",
        "meanA, meanB = revA.mean(), revB.mean()\n",
        "lift_rev = meanB/meanA - 1 if meanA>0 else np.nan"
      ],
      "metadata": {
        "id": "ajAEMvZvAvG3"
      },
      "execution_count": 8,
      "outputs": []
    },
    {
      "cell_type": "code",
      "source": [
        "print(\"\\n=== Revenue Analysis ===\")\n",
        "print(f\"Mean(A)={meanA:.2f}, Mean(B)={meanB:.2f}\")\n",
        "print(f\"Relative lift: {lift_rev:.2%}\")\n",
        "print(f\"t-stat={t_stat:.3f}, p-value={p_rev:.3f}\")"
      ],
      "metadata": {
        "id": "jHe9PmbTA2IX",
        "outputId": "79c8f7e6-b9e9-46d6-84cd-6c80ecc5bdb3",
        "colab": {
          "base_uri": "https://localhost:8080/"
        }
      },
      "execution_count": 9,
      "outputs": [
        {
          "output_type": "stream",
          "name": "stdout",
          "text": [
            "\n",
            "=== Revenue Analysis ===\n",
            "Mean(A)=823.12, Mean(B)=900.12\n",
            "Relative lift: 9.35%\n",
            "t-stat=-0.777, p-value=0.438\n"
          ]
        }
      ]
    }
  ],
  "metadata": {
    "colab": {
      "provenance": []
    },
    "kernelspec": {
      "display_name": "Python 3",
      "name": "python3"
    }
  },
  "nbformat": 4,
  "nbformat_minor": 0
}